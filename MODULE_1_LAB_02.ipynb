{
  "nbformat": 4,
  "nbformat_minor": 0,
  "metadata": {
    "colab": {
      "provenance": [],
      "authorship_tag": "ABX9TyO/5KRmAdpxCjMo3/MOQ0JW",
      "include_colab_link": true
    },
    "kernelspec": {
      "name": "python3",
      "display_name": "Python 3"
    },
    "language_info": {
      "name": "python"
    }
  },
  "cells": [
    {
      "cell_type": "markdown",
      "metadata": {
        "id": "view-in-github",
        "colab_type": "text"
      },
      "source": [
        "<a href=\"https://colab.research.google.com/github/Vishakhatu/FMMLprojectandlab/blob/main/MODULE_1_LAB_02.ipynb\" target=\"_parent\"><img src=\"https://colab.research.google.com/assets/colab-badge.svg\" alt=\"Open In Colab\"/></a>"
      ]
    },
    {
      "cell_type": "code",
      "execution_count": 1,
      "metadata": {
        "id": "K09N4VRVP0_Z"
      },
      "outputs": [],
      "source": [
        "import matplotlib.pyplot as plt\n",
        "import numpy as np\n",
        "from sklearn import datasets\n",
        "# set randomseed\n",
        "rng = np.random.default_rng(seed=42)"
      ]
    },
    {
      "cell_type": "code",
      "source": [
        "dataset =  datasets.fetch_california_housing()\n",
        " # print(dataset.DESCR)  # uncomment this if you want to know more about this dataset\n",
        " # print(dataset.keys())  # if you want to know what else is there in this dataset\n",
        "dataset.target = dataset.target.astype(np.int) # so that we can classify\n",
        "print(dataset.data.shape)\n",
        "print(dataset.target.shape)"
      ],
      "metadata": {
        "colab": {
          "base_uri": "https://localhost:8080/"
        },
        "id": "Knxuwge4RuBi",
        "outputId": "6f2d1a7c-4885-42ec-c4b7-736a8bc4625e"
      },
      "execution_count": null,
      "outputs": [
        {
          "output_type": "stream",
          "name": "stdout",
          "text": [
            "(20640, 8)\n",
            "(20640,)\n"
          ]
        },
        {
          "output_type": "stream",
          "name": "stderr",
          "text": [
            "<ipython-input-3-b8fd9ac64c36>:4: DeprecationWarning: `np.int` is a deprecated alias for the builtin `int`. To silence this warning, use `int` by itself. Doing this will not modify any behavior and is safe. When replacing `np.int`, you may wish to use e.g. `np.int64` or `np.int32` to specify the precision. If you wish to review your current use, check the release note link for additional information.\n",
            "Deprecated in NumPy 1.20; for more details and guidance: https://numpy.org/devdocs/release/1.20.0-notes.html#deprecations\n",
            "  dataset.target = dataset.target.astype(np.int) # so that we can classify\n"
          ]
        }
      ]
    },
    {
      "cell_type": "code",
      "source": [
        "def NN1(traindata, trainlabel, query):\n",
        "  diff  = traindata - query\n",
        "  sq = diff*diff\n",
        "  dist = sq.sum(1)\n",
        "  label = trainlabel[np.argmin(dist)]\n",
        "  return label\n",
        "\n",
        "def NN(traindata, trainlabel, testdata):\n",
        "  predlabel = np.array([NN1(traindata, trainlabel, i) for i in testdata])\n",
        "  return predlabel"
      ],
      "metadata": {
        "id": "sXdBlKORR224"
      },
      "execution_count": null,
      "outputs": []
    },
    {
      "cell_type": "code",
      "source": [
        "def RandomClassifier(traindata, trainlabel, testdata):\n",
        "  # in reality, we don't need these arguments\n",
        "\n",
        "  classes = np.unique(trainlabel)\n",
        "  rints = rng.integers(low=0, high=len(classes), size=len(testdata))\n",
        "  predlabel = classes[rints]\n",
        "  return predlabel"
      ],
      "metadata": {
        "id": "ZREVbCxbTMUG"
      },
      "execution_count": null,
      "outputs": []
    },
    {
      "cell_type": "code",
      "source": [
        "def Accuracy(gtlabel, predlabel):\n",
        "  assert len(gtlabel)==len(predlabel), \"Length of the groundtruth labels and predicted labels should be the same\"\n",
        "  correct = (gtlabel==predlabel).sum()\n",
        "  return correct/len(gtlabel)"
      ],
      "metadata": {
        "id": "649sv-vpTOk1"
      },
      "execution_count": null,
      "outputs": []
    },
    {
      "cell_type": "code",
      "source": [
        "def split(data, label, percent):\n",
        "  rnd = rng.random(len(label))\n",
        "  split1 = rnd<percent\n",
        "  split2 = rnd>=percent\n",
        "  split1data = data[split1,:]\n",
        "  split1label = label[split1]\n",
        "  split2data = data[split2,:]\n",
        "  split2label = label[split2]\n",
        "  return split1data, split1label, split2data, split2label"
      ],
      "metadata": {
        "id": "J5P2KbxfTf-2"
      },
      "execution_count": null,
      "outputs": []
    },
    {
      "cell_type": "code",
      "source": [
        "testdata, testlabel, alltraindata, alltrainlabel = split(dataset.data, dataset.target, 20/100)\n",
        "print('Number of test samples = ', len(testlabel))\n",
        "print('Number of other samples = ', len(alltrainlabel))\n",
        "print('Percent of test data = ', len(testlabel)*100/len(dataset.target),'%')"
      ],
      "metadata": {
        "colab": {
          "base_uri": "https://localhost:8080/"
        },
        "id": "gx6D81qNTwsF",
        "outputId": "e38f77b8-f12d-4977-bcdc-800387ad9734"
      },
      "execution_count": null,
      "outputs": [
        {
          "output_type": "stream",
          "name": "stdout",
          "text": [
            "Number of test samples =  4144\n",
            "Number of other samples =  16496\n",
            "Percent of test data =  20.07751937984496 %\n"
          ]
        }
      ]
    },
    {
      "cell_type": "code",
      "source": [
        "testdata, testlabel, alltraindata, alltrainlabel = split(dataset.data, dataset.target, 20/100)\n",
        "print('Number of test samples = ', len(testlabel))\n",
        "print('Number of other samples = ', len(alltrainlabel))\n",
        "print('Percent of test data = ', len(testlabel)*100/len(dataset.target),'%')"
      ],
      "metadata": {
        "id": "AeNlERKXT2lU"
      },
      "execution_count": null,
      "outputs": []
    },
    {
      "cell_type": "code",
      "source": [
        "traindata, trainlabel, valdata, vallabel = split(alltraindata, alltrainlabel, 80/100)"
      ],
      "metadata": {
        "id": "B0a30xZsUItG"
      },
      "execution_count": null,
      "outputs": []
    },
    {
      "cell_type": "code",
      "source": [
        "trainpred = NN(traindata, trainlabel, traindata)\n",
        "trainAccuracy = Accuracy(trainlabel, trainpred)\n",
        "print(\"Train accuracy using nearest neighbour is \", trainAccuracy)\n",
        "\n",
        "trainpred = RandomClassifier(traindata, trainlabel, traindata)\n",
        "trainAccuracy = Accuracy(trainlabel, trainpred)\n",
        "print(\"Train accuracy using random classifier is \", trainAccuracy)"
      ],
      "metadata": {
        "colab": {
          "base_uri": "https://localhost:8080/"
        },
        "id": "vU8IA9hkUOcE",
        "outputId": "1bf8bd26-87a6-44f3-ddbe-eab5be82f301"
      },
      "execution_count": null,
      "outputs": [
        {
          "output_type": "stream",
          "name": "stdout",
          "text": [
            "Train accuracy using nearest neighbour is  1.0\n",
            "Train accuracy using random classifier is  0.16660367374707083\n"
          ]
        }
      ]
    },
    {
      "cell_type": "code",
      "source": [
        "valpred = NN(traindata, trainlabel, valdata)\n",
        "valAccuracy = Accuracy(vallabel, valpred)\n",
        "print(\"Validation accuracy using nearest neighbour is \", valAccuracy)\n",
        "\n",
        "valpred = RandomClassifier(traindata, trainlabel, valdata)\n",
        "valAccuracy = Accuracy(vallabel, valpred)\n",
        "print(\"Validation accuracy using random classifier is \", valAccuracy)"
      ],
      "metadata": {
        "colab": {
          "base_uri": "https://localhost:8080/"
        },
        "id": "Hyg-E_fDUPcs",
        "outputId": "f3b1214d-1cf9-4347-f987-22dec48baa9c"
      },
      "execution_count": null,
      "outputs": [
        {
          "output_type": "stream",
          "name": "stdout",
          "text": [
            "Validation accuracy using nearest neighbour is  0.34098561371288644\n",
            "Validation accuracy using random classifier is  0.1689623507805326\n"
          ]
        }
      ]
    },
    {
      "cell_type": "code",
      "source": [
        "traindata, trainlabel, valdata, vallabel = split(alltraindata, alltrainlabel, 75/100)\n",
        "valpred = NN(traindata, trainlabel, valdata)\n",
        "valAccuracy = Accuracy(vallabel, valpred)\n",
        "print(\"Validation accuracy of nearest neighbour is \", valAccuracy)"
      ],
      "metadata": {
        "colab": {
          "base_uri": "https://localhost:8080/"
        },
        "id": "FZ1kIiEmUnl8",
        "outputId": "ce68ea17-404a-4313-b720-38787d2c6d1c"
      },
      "execution_count": null,
      "outputs": [
        {
          "output_type": "stream",
          "name": "stdout",
          "text": [
            "Validation accuracy of nearest neighbour is  0.34048257372654156\n"
          ]
        }
      ]
    },
    {
      "cell_type": "code",
      "source": [
        "testpred = NN(alltraindata, alltrainlabel, testdata)\n",
        "testAccuracy = Accuracy(testlabel, testpred)\n",
        "print('Test accuracy is ', testAccuracy)"
      ],
      "metadata": {
        "colab": {
          "base_uri": "https://localhost:8080/"
        },
        "id": "feeMitr2UyS0",
        "outputId": "eea08df0-7ba5-4b8d-fc5b-0d97cb316c0c"
      },
      "execution_count": null,
      "outputs": [
        {
          "output_type": "stream",
          "name": "stdout",
          "text": [
            "Test accuracy is  0.34917953667953666\n"
          ]
        }
      ]
    },
    {
      "cell_type": "markdown",
      "source": [
        "### 1. How is the accuracy of the validation set affected if we increase the percentage of validation set? What happens when we reduce it?"
      ],
      "metadata": {
        "id": "aLzjVcszbp6u"
      }
    },
    {
      "cell_type": "code",
      "source": [
        "traindata, trainlabel, valdata, vallabel = split(alltraindata, alltrainlabel, 40/100)\n",
        "valpred = NN(traindata, trainlabel, valdata)\n",
        "valAccuracy = Accuracy(vallabel, valpred)\n",
        "print(\"Validation accuracy of nearest neighbour is \", valAccuracy)"
      ],
      "metadata": {
        "colab": {
          "base_uri": "https://localhost:8080/"
        },
        "id": "awZPGcs8cfNv",
        "outputId": "314bb157-5776-43d4-860c-f0f725a8d1f1"
      },
      "execution_count": null,
      "outputs": [
        {
          "output_type": "stream",
          "name": "stdout",
          "text": [
            "Validation accuracy of nearest neighbour is  0.3207969099410449\n"
          ]
        }
      ]
    },
    {
      "cell_type": "markdown",
      "source": [
        "\n",
        "ANS:-Effect of Increasing Validation Set Percentage:\n",
        "Larger validation set can provide a more robust estimate of how well your model generalizes to unseen data. It can help detect overfitting earlier because a larger portion of your data is held out for validation.\n",
        "\n",
        "\n",
        "Effect of Reducing Validation Set Percentage:\n",
        "Smaller validation set allows you to allocate more data for training, which can be beneficial if you have limited data. This can lead to faster training times and potentially a more robust model if the training data is representative"
      ],
      "metadata": {
        "id": "LuFcPqdzewrq"
      }
    },
    {
      "cell_type": "markdown",
      "source": [
        "### 2)How does the size of the train and validation set affect how well we can predict the accuracy on the test set using the validation set?"
      ],
      "metadata": {
        "id": "OgHPFpyZdUgU"
      }
    },
    {
      "cell_type": "markdown",
      "source": [
        "ANS:-The size of the training set is crucial for model learning. A larger training set can help the model capture more complex patterns, provided it's representative of the overall data distribution.\n",
        "The size of the validation set affects how well you can estimate the model's generalization performance. A larger validation set generally provides a more reliable estimate of the model's true performance.\n",
        "The balance between training and validation set sizes is essential. If you allocate too much data to the validation set, your model may underfit due to insufficient training data. Conversely, if you have a tiny validation set, your performance estimate might be unreliable."
      ],
      "metadata": {
        "id": "4BrptM5bhc4F"
      }
    },
    {
      "cell_type": "markdown",
      "source": [
        "### **3)What do you think is a good percentage to reserve for the validation set so that thest two factors are balanced?**"
      ],
      "metadata": {
        "id": "LLjjMPcUh1k8"
      }
    },
    {
      "cell_type": "markdown",
      "source": [
        "ANS:-There's no one-size-fits-all answer to the ideal percentage for the validation set. It depends on factors like the size of your overall dataset, the complexity of your model, and your computational resources.\n",
        "A common split is 70-80% for training and 20-30% for validation. However, with larger datasets, you might be able to allocate a smaller percentage to validation.\n",
        "Cross-validation techniques, such as k-fold cross-validation, can be used to get a more robust estimate of model performance while efficiently using your data."
      ],
      "metadata": {
        "id": "1uMBso4PiTTb"
      }
    },
    {
      "cell_type": "code",
      "source": [
        "# you can use this function for random classifier also\n",
        "def AverageAccuracy(alldata, alllabel, splitpercent, iterations, classifier=NN):\n",
        "  accuracy = 0\n",
        "  for ii in range(iterations):\n",
        "    traindata, trainlabel, valdata, vallabel = split(alldata, alllabel, splitpercent)\n",
        "    valpred = classifier(traindata, trainlabel, valdata)\n",
        "    accuracy += Accuracy(vallabel, valpred)\n",
        "  return accuracy/iterations # average of all accuracies"
      ],
      "metadata": {
        "id": "ssYYeU-IixJS"
      },
      "execution_count": null,
      "outputs": []
    },
    {
      "cell_type": "code",
      "source": [
        "print('Average validation accuracy is ', AverageAccuracy(alltraindata, alltrainlabel, 75/100, 10, classifier=NN))\n",
        "testpred = NN(alltraindata, alltrainlabel, testdata)\n",
        "print('test accuracy is ',Accuracy(testlabel, testpred) )"
      ],
      "metadata": {
        "colab": {
          "base_uri": "https://localhost:8080/"
        },
        "id": "3n_yKGiCi6da",
        "outputId": "69a42c26-004b-4789-e802-8a5fc6931f16"
      },
      "execution_count": null,
      "outputs": [
        {
          "output_type": "stream",
          "name": "stdout",
          "text": [
            "Average validation accuracy is  0.33938869511953096\n",
            "test accuracy is  0.34917953667953666\n"
          ]
        }
      ]
    },
    {
      "cell_type": "markdown",
      "source": [
        "Questions\n",
        "1.Does averaging the validation accuracy across multiple splits give more consistent results?\n",
        "\n",
        "2.Does it give more accurate estimate of test accuracy?\n",
        "\n",
        "3.What is the effect of the number of iterations on the estimate? Do we get a better estimate with higher iterations?\n",
        "\n",
        "4.Consider the results you got for the previous questions. Can we deal with a very small train dataset or validation dataset by increasing the iterations?\n"
      ],
      "metadata": {
        "id": "SoHH7Rq5jDk7"
      }
    },
    {
      "cell_type": "markdown",
      "source": [
        "ANS 01: Yes, averaging the validation accuracy across multiple splits.It helps reduce the impact of randomness in data partitioning and provides a more robust estimate of a model's performance.\n",
        "\n",
        "\n",
        "ANS 02: Averaging validation accuracy across multiple splits (such as using k-fold cross-validation) doesn't necessarily provide a more accurate estimate of test accuracy. Instead, it gives you a more reliable estimate of how well your model is likely to perform on unseen data, which is what test accuracy is intended to represent.\n",
        "\n",
        "\n",
        "ANS 03: The number of iterations can affect the estimate's stability, but more iterations don't necessarily guarantee a better estimate. It's crucial to strike a balance between training long enough to converge but not overfit the model.\n",
        "\n",
        "\n",
        "ANS 04 : Increasing iterations can help to some extent, but it can't fully compensate for a very small training or validation dataset. A small dataset may still result in overfitting or unreliable performance estimates, even with more iterations."
      ],
      "metadata": {
        "id": "1rR0gCjZjPY7"
      }
    }
  ]
}